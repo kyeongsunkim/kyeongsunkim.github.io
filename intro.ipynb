{
  "cells": [
    {
      "cell_type": "raw",
      "metadata": {},
      "source": [
        "---\n",
        "title: \"Code Blocks\"\n",
        "format: \n",
        "  html:\n",
        "    page-layout: custom\n",
        "server: shiny\n",
        "---"
      ],
      "id": "84d08d9c"
    },
    {
      "cell_type": "markdown",
      "metadata": {},
      "source": [
        "Link to [Home](https://kyeongsunkim.github.io/)\n",
        "\n",
        "## Plot of Uniaxial Bearing Capacities\n",
        "\n",
        "```{shinylive-python}\n",
        "#| standalone: true\n",
        "#| components: [viewer]\n",
        "\n",
        "import matplotlib.pyplot as plt\n",
        "import numpy as np\n",
        "from shiny import App, render, ui\n",
        "\n",
        "app_ui = ui.page_fluid(\n",
        "    ui.input_slider(\"n\", \"Diameter of Foundation\", 0, 10, 8),\n",
        "    ui.output_plot(\"plot\"),\n",
        ")\n",
        "\n",
        "\n",
        "def server(input, output, session):\n",
        "    @output\n",
        "    @render.plot(alt=\"A histogram\")\n",
        "    def plot():\n",
        "        np.random.seed(19680801)\n",
        "        x = 100 + 15 * np.random.randn(437)\n",
        "\n",
        "        fig, ax = plt.subplots()\n",
        "        ax.hist(x, input.n(), density=True)\n",
        "        return fig\n",
        "\n",
        "\n",
        "app = App(app_ui, server, debug=True)\n",
        "\n",
        "```\n",
        "\n",
        "\n",
        "## Plot using Python\n"
      ],
      "id": "986d7858"
    },
    {
      "cell_type": "code",
      "metadata": {},
      "source": [
        "#| echo: true\n",
        "#| label: fig-polar\n",
        "#| fig-cap: A line plot on a polar axis\n",
        "\n",
        "import numpy as np\n",
        "import matplotlib.pyplot as plt\n",
        "\n",
        "r = np.arange(0, 2, 0.01)\n",
        "theta = 2 * np.pi * r\n",
        "fig, ax = plt.subplots(\n",
        "  subplot_kw = {'projection': 'polar'} \n",
        ")\n",
        "ax.plot(theta, r)\n",
        "ax.set_rticks([0.5, 1, 1.5, 2])\n",
        "ax.grid(True)\n",
        "plt.show()"
      ],
      "id": "fig-polar",
      "execution_count": null,
      "outputs": []
    }
  ],
  "metadata": {
    "kernelspec": {
      "name": "python3",
      "language": "python",
      "display_name": "Python 3 (ipykernel)"
    }
  },
  "nbformat": 4,
  "nbformat_minor": 5
}